{
  "nbformat": 4,
  "nbformat_minor": 0,
  "metadata": {
    "colab": {
      "provenance": [],
      "authorship_tag": "ABX9TyOMYGa73On++JVwpyVUiBkv",
      "include_colab_link": true
    },
    "kernelspec": {
      "name": "python3",
      "display_name": "Python 3"
    },
    "language_info": {
      "name": "python"
    }
  },
  "cells": [
    {
      "cell_type": "markdown",
      "metadata": {
        "id": "view-in-github",
        "colab_type": "text"
      },
      "source": [
        "<a href=\"https://colab.research.google.com/github/ameniban/Excel-Files-with-python/blob/main/Udemy_excelpython.ipynb\" target=\"_parent\"><img src=\"https://colab.research.google.com/assets/colab-badge.svg\" alt=\"Open In Colab\"/></a>"
      ]
    },
    {
      "cell_type": "code",
      "execution_count": 68,
      "metadata": {
        "id": "vqBqqSmGP3_3"
      },
      "outputs": [],
      "source": [
        "#1.Import the openpyxl module\n",
        "from  openpyxl import load_workbook\n",
        "wb = load_workbook('/content/sample.xlsx')"
      ]
    },
    {
      "cell_type": "code",
      "source": [
        "#2.Indicate the name of the sheets\n",
        "print(wb.sheetnames) \n",
        "#or we can use (wb.get_sheet_names)"
      ],
      "metadata": {
        "colab": {
          "base_uri": "https://localhost:8080/"
        },
        "id": "vgHabYZlRT6c",
        "outputId": "99db423b-851b-489d-d406-6b1c702b77c8"
      },
      "execution_count": 69,
      "outputs": [
        {
          "output_type": "stream",
          "name": "stdout",
          "text": [
            "['Cookies', 'Fruits', 'Movies', 'Hello World']\n"
          ]
        }
      ]
    },
    {
      "cell_type": "code",
      "source": [
        "#3.retrieve data from the excel file\n",
        "wb1 = load_workbook('/content/sample2.xlsx')\n",
        "sheet_rangers=wb1['Sheet']\n",
        "print(sheet_rangers['A1'].value)\n",
        "print(sheet_rangers['B2'].value)\n",
        "print(sheet_rangers['C3'].value)\n",
        "print(sheet_rangers['D4'].value)"
      ],
      "metadata": {
        "colab": {
          "base_uri": "https://localhost:8080/"
        },
        "id": "c-8a1E6USVPh",
        "outputId": "089eff10-d77e-4ad0-bfa2-401fc6e3607b"
      },
      "execution_count": 70,
      "outputs": [
        {
          "output_type": "stream",
          "name": "stdout",
          "text": [
            "Hello\n",
            "World\n",
            "from\n",
            "Python\n"
          ]
        }
      ]
    },
    {
      "cell_type": "code",
      "source": [
        "#4.Use Python to create excel file\n",
        "from openpyxl import Workbook\n",
        "wb = Workbook()\n",
        "ws = wb.active\n",
        "#Now let's add some data: to specify location we need to use the letters for the columns and the numbers for the rows:\n",
        "#exemple (A1,B6 ...)\n",
        "ws['A1'] = 23\n",
        "#write Bannour in Column \"C\" and row \"2\"\n",
        "ws['C2']= 'Bannour'\n",
        "\n",
        "output_file=wb.save(\"sample3.xlsx\")\n"
      ],
      "metadata": {
        "id": "j-NtAb6PZOIm"
      },
      "execution_count": 71,
      "outputs": []
    },
    {
      "cell_type": "code",
      "source": [
        "#5.load an image into the excel file:\n",
        "from openpyxl.drawing.image import Image\n",
        "#1st method to set the position: \n",
        "img = Image ('/content/R.png')\n",
        "ws.add_image(img, 'E4')\n",
        "#2nd method:\n",
        "img2= Image('/content/R.png')\n",
        "ws.anchor = 'A1'\n",
        "ws.add_image(img2)\n",
        "wb.save('Dashboard.xlsx')\n"
      ],
      "metadata": {
        "id": "Ff1pRf_3ZOLC"
      },
      "execution_count": 72,
      "outputs": []
    },
    {
      "cell_type": "code",
      "source": [
        "#6.Chart:\n",
        "from openpyxl.chart import BarChart, Reference, Series\n",
        "\n",
        "wb=Workbook()\n",
        "ws=wb.active \n",
        "for i in range (10):\n",
        "  ws.append([i])\n",
        "\n",
        "values = Reference(ws, min_col=1,min_row=1, max_col=1, max_row=10)\n",
        "chart= BarChart()\n",
        "chart.add_data(values)\n",
        "\n",
        "ws.add_chart(chart, \"A1\")\n",
        "wb.save(\"chart.xlsx\")\n"
      ],
      "metadata": {
        "id": "0pGTMWkU3q0Q"
      },
      "execution_count": 73,
      "outputs": []
    },
    {
      "cell_type": "code",
      "source": [
        "#7. Pie Chart:\n",
        "from openpyxl.chart import PieChart3D, Reference\n",
        "data=[['Name','Age'],\n",
        "      ['Ameni', 26],\n",
        "      ['Alaa',27],\n",
        "      ['Yara', 24],\n",
        "      ['Ahmed', 29]]\n",
        "wb=Workbook()\n",
        "ws=wb.active \n",
        "for row in data:\n",
        "  ws.append(row)\n",
        "\n",
        "pie= PieChart3D()\n",
        "labels = Reference(ws, min_col=1,min_row=2, max_row=5)\n",
        "data = Reference(ws, min_col=2,min_row=1, max_row=5)\n",
        "\n",
        "pie.add_data(data, titles_from_data=True)\n",
        "pie.set_categories(labels)\n",
        "pie.title='Age of each Employee'\n",
        "ws.add_chart(pie, \"D1\")\n",
        "wb.save(\"Pie3D.xlsx\")"
      ],
      "metadata": {
        "id": "zQYp1hbA8Cnb"
      },
      "execution_count": 74,
      "outputs": []
    },
    {
      "cell_type": "code",
      "source": [
        "from openpyxl import Workbook\n",
        "from openpyxl.chart.line_chart import LineChart\n",
        "#8. Line Chart:\n",
        "from datetime import date\n",
        "from openpyxl.chart import BarChart, Reference, Series\n",
        "from openpyxl.chart.axis import DateAxis\n",
        "\n",
        "\n",
        "wb=Workbook()\n",
        "ws=wb.active \n",
        "\n",
        "rows =[['Date of Employment','Employee_id','Name','Age'],\n",
        "      [date(2022,11,30),1,'Ameni', 26],\n",
        "      [date(2022,10,1),2,'Alaa',27],\n",
        "      [date(2023,1,15),3,'Yara', 24],\n",
        "      [date(2023,6,8),4,'Ahmed', 29]]\n",
        "\n",
        "for row in rows: \n",
        "  ws.append(row)\n",
        "\n",
        "l1 = LineChart()\n",
        "l1.title= \"Line Chart\"\n",
        "l1.legend= None\n",
        "l1.style= 15\n",
        "l1.y_axis.title='Age'\n",
        "l1.x_axis.title='employee_id'\n",
        "\n",
        "data=Reference(ws, min_col=2, min_row=1, max_col=4, max_row=7)\n",
        "l1.add_data(data, titles_from_data=True)\n",
        "\n",
        "ws.add_chart(l1, \"A10\")\n",
        "wb.save(\"line.xlsx\")"
      ],
      "metadata": {
        "id": "xm4zvdEgD3F2"
      },
      "execution_count": 75,
      "outputs": []
    },
    {
      "cell_type": "code",
      "source": [
        "#9.Font Style:\n",
        "\n",
        "from openpyxl.styles import Font\n",
        "from openpyxl.styles.colors import Color\n",
        "from openpyxl import Workbook\n",
        "\n",
        "#create a workbook\n",
        "wb= Workbook()\n",
        "#select sheet\n",
        "ws = wb['Sheet']\n",
        "\n",
        "#set font\n",
        "ws['A1'].font= Font(color=\"FF0000\")\n",
        "\n",
        "#set data \n",
        "ws['A1']='Hello'\n",
        "\n",
        "#save file\n",
        "wb.save(\"styles.xlsx\")\n"
      ],
      "metadata": {
        "id": "nbIm0rmQ7x8X"
      },
      "execution_count": 76,
      "outputs": []
    },
    {
      "cell_type": "markdown",
      "source": [
        "As a final step, Let's play a bit with what we've learned by creating a Company's report that showcases the employees data in the first sheet. "
      ],
      "metadata": {
        "id": "FU_ptdyAD_Em"
      }
    },
    {
      "cell_type": "code",
      "source": [
        "#import the librairies\n",
        "from openpyxl import Workbook\n",
        "from datetime import date\n",
        "from openpyxl.styles import Font\n",
        "from openpyxl.styles.colors import Color\n",
        "from openpyxl.chart.line_chart import LineChart\n",
        "from openpyxl.chart import BarChart, Reference, Series\n",
        "from openpyxl.chart.axis import DateAxis\n",
        "from openpyxl.chart import PieChart3D, Reference\n",
        "from openpyxl.drawing.image import Image\n",
        "\n",
        "#create a workbook\n",
        "wb = Workbook()\n",
        "#select sheet\n",
        "ws = wb['Sheet']\n",
        "ws.title = 'Employees Report'\n",
        "#set font\n",
        "ws['B1'].font= Font(color=\"FF0000\")\n",
        "\n",
        "#set a chosen title to the file \n",
        "ws['B1']='Employees Data'\n",
        "\n",
        "#set the data\n",
        "df =[['Date of Employment','Employee_id','Name','Age'],\n",
        "      [date(2022,11,30),1,'Ameni', 26],\n",
        "      [date(2022,10,1),2,'Alaa',27],\n",
        "      [date(2023,1,15),3,'Yara', 24],\n",
        "      [date(2023,6,8),4,'Ahmed', 29]]\n",
        "\n",
        "#Prepare a LineChart to present the variation of the employees age:\n",
        "for row in df:\n",
        "  ws.append(row)\n",
        "\n",
        "l1 = LineChart()\n",
        "l1.title= \"Line Chart\"\n",
        "l1.legend= None\n",
        "l1.style= 15\n",
        "l1.y_axis.title='Age'\n",
        "l1.x_axis.title='employee_id'\n",
        "\n",
        "\n",
        "# Define the data range for the chart\n",
        "data = Reference(ws, min_col=4, min_row=2, max_col=4, max_row=6)\n",
        "# Add the data to the chart\n",
        "series = Series(data, title_from_data=True)\n",
        "l1.append(series)\n",
        "\n",
        "# Add the chart to the worksheet\n",
        "ws.add_chart(l1, \"A9\")\n",
        "\n",
        "#Pie Chart:\n",
        "pie= PieChart3D()\n",
        "pie.title = 'Distribution of demployment '\n",
        "# Define the data range for the chart\n",
        "data1= Reference(ws, min_col=1, min_row=3, max_row=7)\n",
        "labels = Reference(ws, min_col=1, min_row=3, max_row=7)\n",
        "# Add the data and labels to the chart\n",
        "\n",
        "data_points = Reference(ws, min_col=1, min_row=3, max_row=6)\n",
        "labels = Reference(ws, min_col=1, min_row=3, max_row=6)\n",
        "\n",
        "# Add the data and labels to the chart\n",
        "pie.add_data(data_points, titles_from_data=False)\n",
        "pie.set_categories(labels)\n",
        "\n",
        "# Add the chart to the worksheet\n",
        "ws.add_chart(pie, \"J1\")\n",
        "\n",
        "#5.As a final step we can load the company's Logo: \n",
        "img = Image ('/content/company Logo.jpg')\n",
        "img.width = 100\n",
        "img.height = 100\n",
        "ws.add_image(img, 'H4')\n",
        "wb.save(\"Final Report.xlsx\")\n",
        "\n",
        "\n"
      ],
      "metadata": {
        "id": "Gzi4-BZZ-2q9"
      },
      "execution_count": 77,
      "outputs": []
    },
    {
      "cell_type": "code",
      "source": [
        "#Now we can retrieve the data that we inserted\n",
        "from  openpyxl import load_workbook\n",
        "wb = load_workbook('/content/Final Report.xlsx')\n",
        "print(wb.sheetnames) \n"
      ],
      "metadata": {
        "id": "4w_xS6tj_uJS",
        "colab": {
          "base_uri": "https://localhost:8080/"
        },
        "outputId": "cd20348a-258d-4c4a-8b40-51a8c6bd9e15"
      },
      "execution_count": 78,
      "outputs": [
        {
          "output_type": "stream",
          "name": "stdout",
          "text": [
            "['Employees Report']\n"
          ]
        }
      ]
    }
  ]
}